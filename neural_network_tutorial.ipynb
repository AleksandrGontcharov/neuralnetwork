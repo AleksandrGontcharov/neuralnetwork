{
 "cells": [
  {
   "cell_type": "code",
   "execution_count": 1,
   "metadata": {},
   "outputs": [],
   "source": [
    "from neuralnetwork.datasets import blobs, nregion, circle\n",
    "from neuralnetwork.network import Network"
   ]
  },
  {
   "cell_type": "code",
   "execution_count": 2,
   "metadata": {},
   "outputs": [
    {
     "data": {
      "text/plain": [
       "{'L0': (['L0_1', 'L0_2'], []),\n",
       " 'L1': (['L1_1', 'L1_2', 'L1_3'],\n",
       "  [('L0_1', 'L1_1'),\n",
       "   ('L0_1', 'L1_2'),\n",
       "   ('L0_1', 'L1_3'),\n",
       "   ('L0_2', 'L1_1'),\n",
       "   ('L0_2', 'L1_2'),\n",
       "   ('L0_2', 'L1_3')]),\n",
       " 'L2': (['L2_1', 'L2_2', 'L2_3', 'L2_4', 'L2_5'],\n",
       "  [('L1_1', 'L2_1'),\n",
       "   ('L1_1', 'L2_2'),\n",
       "   ('L1_1', 'L2_3'),\n",
       "   ('L1_1', 'L2_4'),\n",
       "   ('L1_1', 'L2_5'),\n",
       "   ('L1_2', 'L2_1'),\n",
       "   ('L1_2', 'L2_2'),\n",
       "   ('L1_2', 'L2_3'),\n",
       "   ('L1_2', 'L2_4'),\n",
       "   ('L1_2', 'L2_5'),\n",
       "   ('L1_3', 'L2_1'),\n",
       "   ('L1_3', 'L2_2'),\n",
       "   ('L1_3', 'L2_3'),\n",
       "   ('L1_3', 'L2_4'),\n",
       "   ('L1_3', 'L2_5')]),\n",
       " 'L3': (['L3_1'],\n",
       "  [('L2_1', 'L3_1'),\n",
       "   ('L2_2', 'L3_1'),\n",
       "   ('L2_3', 'L3_1'),\n",
       "   ('L2_4', 'L3_1'),\n",
       "   ('L2_5', 'L3_1')])}"
      ]
     },
     "execution_count": 2,
     "metadata": {},
     "output_type": "execute_result"
    }
   ],
   "source": [
    "# Example Network\n",
    "mynetwork = Network(2)\n",
    "mynetwork.add_layer(3, connections = 'all')\n",
    "mynetwork.add_layer(5)\n",
    "mynetwork.add_layer(1)\n",
    "mynetwork.layers"
   ]
  },
  {
   "cell_type": "code",
   "execution_count": 3,
   "metadata": {},
   "outputs": [
    {
     "data": {
      "image/png": "[encoded data removed]",
      "text/plain": [
       "<Figure size 432x288 with 1 Axes>"
      ]
     },
     "metadata": {
      "needs_background": "light"
     },
     "output_type": "display_data"
    }
   ],
   "source": [
    "mynetwork.summary()"
   ]
  },
  {
   "cell_type": "code",
   "execution_count": null,
   "metadata": {},
   "outputs": [],
   "source": []
  }
 ],
 "metadata": {
  "kernelspec": {
   "display_name": "Python 3",
   "language": "python",
   "name": "python3"
  },
  "language_info": {
   "codemirror_mode": {
    "name": "ipython",
    "version": 3
   },
   "file_extension": ".py",
   "mimetype": "text/x-python",
   "name": "python",
   "nbconvert_exporter": "python",
   "pygments_lexer": "ipython3",
   "version": "3.7.2"
  }
 },
 "nbformat": 4,
 "nbformat_minor": 2
}
